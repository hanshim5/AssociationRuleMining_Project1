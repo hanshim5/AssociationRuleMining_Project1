{
 "cells": [
  {
   "cell_type": "markdown",
   "id": "62d6d46f",
   "metadata": {},
   "source": [
    "# Data Preprocessing"
   ]
  },
  {
   "cell_type": "markdown",
   "id": "08706d3c",
   "metadata": {},
   "source": [
    "Sources:\n",
    "\n",
    "apriori:\n",
    "Geeks for Geeks article: https://www.geeksforgeeks.org/implementing-apriori-algorithm-in-python/\n",
    "\n",
    "networkx graph:\n",
    "https://innovationyourself.com/association-rules-learning/"
   ]
  },
  {
   "cell_type": "code",
   "execution_count": null,
   "id": "5e282b57",
   "metadata": {},
   "outputs": [],
   "source": [
    "import pandas as pd\n",
    "\n",
    "df = pd.read_csv(\"diabetes_012_health_indicators_BRFSS2015.csv\")"
   ]
  },
  {
   "cell_type": "markdown",
   "id": "5054f158",
   "metadata": {},
   "source": [
    "## Separate prediabetic and diabetic datasets"
   ]
  },
  {
   "cell_type": "code",
   "execution_count": null,
   "id": "7a671776",
   "metadata": {},
   "outputs": [],
   "source": [
    "#columns to be included\n",
    "selected_features = [\"HighBP\", \"HighChol\", \"BMI\", \"Smoker\", \"Stroke\", \"HeartDiseaseorAttack\",\n",
    "                     \"GenHlth\", \"Age\" , \"Education\", \"Income\", \"NoDocbcCost\", \"DiffWalk\"]\n",
    "\n",
    "\n",
    "#prediabetes dataframe\n",
    "df_pred = df[df[\"Diabetes_012\"] ==1]\n",
    "df_pred = df_pred[selected_features]\n",
    "\n",
    "#diabetes dataframe\n",
    "df_diab = df[df[\"Diabetes_012\"]==2]\n",
    "df_diab = df_diab[selected_features]\n"
   ]
  },
  {
   "cell_type": "markdown",
   "id": "71d7acad",
   "metadata": {},
   "source": [
    "## Bin data"
   ]
  },
  {
   "cell_type": "code",
   "execution_count": null,
   "id": "381763de",
   "metadata": {},
   "outputs": [],
   "source": [
    "import numpy as np\n",
    "\n",
    "#bin data for prediabetes dataset\n",
    "df_pred[\"BMIBin\"] = pd.cut(df_pred['BMI'], bins=[0, 18.4, 24.9, 29.9, 40], labels=[\"Underweight\", \"Normal\", \"Overweight\", \"Obese\"])\n",
    "df_pred['ageBin'] = pd.cut(df_pred['Age'], bins=[0, 2, 5, 8, 13], labels=[\"18-29\", \"30-44\", \"45-59\", \"60+\"])\n",
    "\n",
    "\n",
    "#bin data for diabetes dataset\n",
    "df_diab[\"BMIBin\"] = pd.cut(df_diab['BMI'], bins=[0, 18.4, 24.9, 29.9, 40], labels=[\"Underweight\", \"Normal\", \"Overweight\", \"Obese\"])\n",
    "df_diab['ageBin'] = pd.cut(df_diab['Age'], bins=[0, 2, 5, 8, 13], labels=[\"18-29\", \"30-44\", \"45-59\", \"60+\"])\n"
   ]
  },
  {
   "cell_type": "markdown",
   "id": "f5e8038a",
   "metadata": {},
   "source": [
    "# Transform the Data for Mining"
   ]
  },
  {
   "cell_type": "code",
   "execution_count": null,
   "id": "82cb6443",
   "metadata": {},
   "outputs": [],
   "source": [
    "\n",
    "binary_v = [\"HighBP\", \"HighChol\", \"Smoker\", \"HeartDiseaseorAttack\", \"NoDocbcCost\", \"DiffWalk\", \"Stroke\"]\n",
    "binned_v = [\"GenHlth\", \"ageBin\", \"Education\", \"BMIBin\"]\n",
    "\n",
    "\n",
    "#transform prediabetes dataframe into transaction format\n",
    "pred_list = []\n",
    "for row in df_pred.itertuples():\n",
    "    \n",
    "    row_list = []\n",
    "    for v in binary_v:\n",
    "        if getattr(row, v) == 1:\n",
    "            row_list.append(v)\n",
    "    \n",
    "    \n",
    "    for v in binned_v:\n",
    "        bin_value = getattr(row, v)\n",
    "        row_list.append(f\"{v}: {bin_value}\")\n",
    "    \n",
    "\n",
    "    pred_list.append(row_list)\n",
    "\n"
   ]
  },
  {
   "cell_type": "code",
   "execution_count": null,
   "id": "1d6576de",
   "metadata": {},
   "outputs": [],
   "source": [
    "#transform diabetes dataframe into transaction format\n",
    "diab_list = []\n",
    "for row in df_diab.itertuples():\n",
    "    \n",
    "    row_list = []\n",
    "    for v in binary_v:\n",
    "        if getattr(row, v) == 1:\n",
    "            row_list.append(v)\n",
    "    \n",
    "    \n",
    "    for v in binned_v:\n",
    "        bin_value = getattr(row, v)\n",
    "        row_list.append(f\"{v}: {bin_value}\")\n",
    "    \n",
    "\n",
    "    diab_list.append(row_list)\n",
    "\n"
   ]
  },
  {
   "cell_type": "code",
   "execution_count": null,
   "id": "9eb47b32",
   "metadata": {},
   "outputs": [],
   "source": [
    "#One-hot encoding of the transactions for pre-diabetes\n",
    "from mlxtend.preprocessing import TransactionEncoder\n",
    "transactions = pred_list\n",
    "encoder = TransactionEncoder()\n",
    "encoded = encoder.fit(transactions).transform(transactions)\n",
    "encoded_pred_df = pd.DataFrame(encoded, columns=encoder.columns_)\n",
    "encoded_pred_df.head()\n",
    "\n",
    "#One-hot encoding of the transactions for diabetes\n",
    "transactions = diab_list\n",
    "encoder = TransactionEncoder()\n",
    "encoded = encoder.fit(transactions).transform(transactions)\n",
    "encoded_diab_df = pd.DataFrame(encoded, columns=encoder.columns_)\n",
    "encoded_diab_df.head()\n"
   ]
  },
  {
   "cell_type": "markdown",
   "id": "84a5f1b1",
   "metadata": {},
   "source": [
    "# Apply Association Rule Mining"
   ]
  },
  {
   "cell_type": "markdown",
   "id": "2a7b3a21",
   "metadata": {},
   "source": [
    "## Prediabetic Dataset"
   ]
  },
  {
   "cell_type": "code",
   "execution_count": 282,
   "id": "96354b10",
   "metadata": {},
   "outputs": [
    {
     "data": {
      "text/html": [
       "<div>\n",
       "<style scoped>\n",
       "    .dataframe tbody tr th:only-of-type {\n",
       "        vertical-align: middle;\n",
       "    }\n",
       "\n",
       "    .dataframe tbody tr th {\n",
       "        vertical-align: top;\n",
       "    }\n",
       "\n",
       "    .dataframe thead th {\n",
       "        text-align: right;\n",
       "    }\n",
       "</style>\n",
       "<table border=\"1\" class=\"dataframe\">\n",
       "  <thead>\n",
       "    <tr style=\"text-align: right;\">\n",
       "      <th></th>\n",
       "      <th>antecedents</th>\n",
       "      <th>consequents</th>\n",
       "      <th>support</th>\n",
       "      <th>confidence</th>\n",
       "      <th>lift</th>\n",
       "    </tr>\n",
       "  </thead>\n",
       "  <tbody>\n",
       "    <tr>\n",
       "      <th>40</th>\n",
       "      <td>(DiffWalk)</td>\n",
       "      <td>(GenHlth: 5.0)</td>\n",
       "      <td>0.058735</td>\n",
       "      <td>0.211673</td>\n",
       "      <td>2.792759</td>\n",
       "    </tr>\n",
       "    <tr>\n",
       "      <th>41</th>\n",
       "      <td>(GenHlth: 5.0)</td>\n",
       "      <td>(DiffWalk)</td>\n",
       "      <td>0.058735</td>\n",
       "      <td>0.774929</td>\n",
       "      <td>2.792759</td>\n",
       "    </tr>\n",
       "    <tr>\n",
       "      <th>1356</th>\n",
       "      <td>(ageBin: 60+, GenHlth: 4.0)</td>\n",
       "      <td>(HighBP, DiffWalk)</td>\n",
       "      <td>0.053768</td>\n",
       "      <td>0.444643</td>\n",
       "      <td>2.185925</td>\n",
       "    </tr>\n",
       "    <tr>\n",
       "      <th>1357</th>\n",
       "      <td>(HighBP, DiffWalk)</td>\n",
       "      <td>(ageBin: 60+, GenHlth: 4.0)</td>\n",
       "      <td>0.053768</td>\n",
       "      <td>0.264331</td>\n",
       "      <td>2.185925</td>\n",
       "    </tr>\n",
       "    <tr>\n",
       "      <th>1362</th>\n",
       "      <td>(DiffWalk)</td>\n",
       "      <td>(ageBin: 60+, HighBP, GenHlth: 4.0)</td>\n",
       "      <td>0.053768</td>\n",
       "      <td>0.193774</td>\n",
       "      <td>2.007537</td>\n",
       "    </tr>\n",
       "  </tbody>\n",
       "</table>\n",
       "</div>"
      ],
      "text/plain": [
       "                      antecedents                          consequents  \\\n",
       "40                     (DiffWalk)                       (GenHlth: 5.0)   \n",
       "41                 (GenHlth: 5.0)                           (DiffWalk)   \n",
       "1356  (ageBin: 60+, GenHlth: 4.0)                   (HighBP, DiffWalk)   \n",
       "1357           (HighBP, DiffWalk)          (ageBin: 60+, GenHlth: 4.0)   \n",
       "1362                   (DiffWalk)  (ageBin: 60+, HighBP, GenHlth: 4.0)   \n",
       "\n",
       "       support  confidence      lift  \n",
       "40    0.058735    0.211673  2.792759  \n",
       "41    0.058735    0.774929  2.792759  \n",
       "1356  0.053768    0.444643  2.185925  \n",
       "1357  0.053768    0.264331  2.185925  \n",
       "1362  0.053768    0.193774  2.007537  "
      ]
     },
     "execution_count": 282,
     "metadata": {},
     "output_type": "execute_result"
    }
   ],
   "source": [
    "from mlxtend.frequent_patterns import apriori, association_rules \n",
    "\n",
    "# min_support=0.05 -> looking for itemsets that appear in at least 5% of the transactions\n",
    "frequent_itemsets = apriori(encoded_pred_df, min_support=0.05, use_colnames=True)\n",
    "\n",
    "# Generate the association rules from the frequent itemsets\n",
    "# Use 'lift' as a metric + set a minimum threshold of 1.0 for the lift\n",
    "rules = association_rules(frequent_itemsets, metric=\"lift\", min_threshold=1.0)\n",
    "\n",
    "\n",
    "# Sort the rules by lift and display the top 5 rules\n",
    "pred_top_rules = rules[['antecedents', 'consequents', 'support', 'confidence', 'lift']].sort_values(by='lift', ascending=False).head(5)\n",
    "\n",
    "pred_top_rules"
   ]
  },
  {
   "cell_type": "markdown",
   "id": "f7aba6ed",
   "metadata": {},
   "source": [
    "## Diabetic Dataset"
   ]
  },
  {
   "cell_type": "code",
   "execution_count": 283,
   "id": "17606ad0",
   "metadata": {},
   "outputs": [
    {
     "data": {
      "text/html": [
       "<div>\n",
       "<style scoped>\n",
       "    .dataframe tbody tr th:only-of-type {\n",
       "        vertical-align: middle;\n",
       "    }\n",
       "\n",
       "    .dataframe tbody tr th {\n",
       "        vertical-align: top;\n",
       "    }\n",
       "\n",
       "    .dataframe thead th {\n",
       "        text-align: right;\n",
       "    }\n",
       "</style>\n",
       "<table border=\"1\" class=\"dataframe\">\n",
       "  <thead>\n",
       "    <tr style=\"text-align: right;\">\n",
       "      <th></th>\n",
       "      <th>antecedents</th>\n",
       "      <th>consequents</th>\n",
       "      <th>support</th>\n",
       "      <th>confidence</th>\n",
       "      <th>lift</th>\n",
       "    </tr>\n",
       "  </thead>\n",
       "  <tbody>\n",
       "    <tr>\n",
       "      <th>2098</th>\n",
       "      <td>(GenHlth: 5.0)</td>\n",
       "      <td>(HighBP, DiffWalk, Smoker)</td>\n",
       "      <td>0.053896</td>\n",
       "      <td>0.416121</td>\n",
       "      <td>2.382666</td>\n",
       "    </tr>\n",
       "    <tr>\n",
       "      <th>2087</th>\n",
       "      <td>(HighBP, DiffWalk, Smoker)</td>\n",
       "      <td>(GenHlth: 5.0)</td>\n",
       "      <td>0.053896</td>\n",
       "      <td>0.308602</td>\n",
       "      <td>2.382666</td>\n",
       "    </tr>\n",
       "    <tr>\n",
       "      <th>2078</th>\n",
       "      <td>(DiffWalk, HighChol)</td>\n",
       "      <td>(HighBP, GenHlth: 5.0)</td>\n",
       "      <td>0.068353</td>\n",
       "      <td>0.255743</td>\n",
       "      <td>2.370699</td>\n",
       "    </tr>\n",
       "    <tr>\n",
       "      <th>2079</th>\n",
       "      <td>(HighBP, GenHlth: 5.0)</td>\n",
       "      <td>(DiffWalk, HighChol)</td>\n",
       "      <td>0.068353</td>\n",
       "      <td>0.633622</td>\n",
       "      <td>2.370699</td>\n",
       "    </tr>\n",
       "    <tr>\n",
       "      <th>2092</th>\n",
       "      <td>(DiffWalk, Smoker)</td>\n",
       "      <td>(HighBP, GenHlth: 5.0)</td>\n",
       "      <td>0.053896</td>\n",
       "      <td>0.252820</td>\n",
       "      <td>2.343609</td>\n",
       "    </tr>\n",
       "  </tbody>\n",
       "</table>\n",
       "</div>"
      ],
      "text/plain": [
       "                     antecedents                 consequents   support  \\\n",
       "2098              (GenHlth: 5.0)  (HighBP, DiffWalk, Smoker)  0.053896   \n",
       "2087  (HighBP, DiffWalk, Smoker)              (GenHlth: 5.0)  0.053896   \n",
       "2078        (DiffWalk, HighChol)      (HighBP, GenHlth: 5.0)  0.068353   \n",
       "2079      (HighBP, GenHlth: 5.0)        (DiffWalk, HighChol)  0.068353   \n",
       "2092          (DiffWalk, Smoker)      (HighBP, GenHlth: 5.0)  0.053896   \n",
       "\n",
       "      confidence      lift  \n",
       "2098    0.416121  2.382666  \n",
       "2087    0.308602  2.382666  \n",
       "2078    0.255743  2.370699  \n",
       "2079    0.633622  2.370699  \n",
       "2092    0.252820  2.343609  "
      ]
     },
     "execution_count": 283,
     "metadata": {},
     "output_type": "execute_result"
    }
   ],
   "source": [
    "# min_support=0.05 -> looking for itemsets that appear in at least 5% of the transactions\n",
    "frequent_itemsets = apriori(encoded_diab_df, min_support=0.05, use_colnames=True)\n",
    "\n",
    "# Generate the association rules from the frequent itemsets\n",
    "# Use 'lift' as a metric + set a minimum threshold of 1.0 for the lift\n",
    "rules = association_rules(frequent_itemsets, metric=\"lift\", min_threshold=1.0)\n",
    "\n",
    "# Step 11: Format the output\n",
    "# Sort the rules by lift and display the top 5 rules\n",
    "diab_top_rules = rules[['antecedents', 'consequents', 'support', 'confidence', 'lift']].sort_values(by='lift', ascending=False).head(5)\n",
    "\n",
    "diab_top_rules"
   ]
  },
  {
   "cell_type": "markdown",
   "id": "796327a3",
   "metadata": {},
   "source": [
    "# Visualize Findings: NetworkX Graph"
   ]
  },
  {
   "cell_type": "code",
   "execution_count": 284,
   "id": "b23feafa",
   "metadata": {},
   "outputs": [
    {
     "data": {
      "image/png": "[encoded data removed]",
      "text/plain": [
       "<Figure size 640x480 with 1 Axes>"
      ]
     },
     "metadata": {},
     "output_type": "display_data"
    }
   ],
   "source": [
    "# Create a directed graph for top association rules in diabetes dataset\n",
    "G = nx.DiGraph()\n",
    "\n",
    "# Add nodes\n",
    "for item in diab_top_rules['antecedents']:\n",
    "    G.add_node(tuple(item), shape='ellipse', style='filled', fillcolor='lightblue')\n",
    "for item in diab_top_rules['consequents']:\n",
    "    G.add_node(tuple(item), shape='ellipse', style='filled', fillcolor='pink')\n",
    "\n",
    "# Add edges\n",
    "for idx, row in diab_top_rules.iterrows():\n",
    "    G.add_edge(tuple(row['antecedents']), tuple(row['consequents']), label=f\"Confidence: {row['confidence']:.2f}\")\n",
    "\n",
    "# Plot the graph\n",
    "pos = nx.spring_layout(G, seed=26)\n",
    "edge_labels = nx.get_edge_attributes(G, 'label')\n",
    "nx.draw(G, pos, with_labels=True, node_size=400, node_color=['lightblue' if 'antecedents' in node else 'pink' for node in G.nodes()])\n",
    "nx.draw_networkx_edge_labels(G, pos, edge_labels=edge_labels)\n",
    "plt.title(\"Diabetes Association Rule Visualization\")\n",
    "plt.show()\n"
   ]
  },
  {
   "cell_type": "code",
   "execution_count": 285,
   "id": "60500b62",
   "metadata": {},
   "outputs": [
    {
     "data": {
      "image/png": "[encoded data removed]",
      "text/plain": [
       "<Figure size 640x480 with 1 Axes>"
      ]
     },
     "metadata": {},
     "output_type": "display_data"
    }
   ],
   "source": [
    "# Create a directed graph for top association rules in prediabetes dataset\n",
    "G = nx.DiGraph()\n",
    "\n",
    "# Add nodes\n",
    "for item in pred_top_rules['antecedents']:\n",
    "    G.add_node(tuple(item), shape='ellipse', style='filled', fillcolor='lightblue')\n",
    "for item in pred_top_rules['consequents']:\n",
    "    G.add_node(tuple(item), shape='ellipse', style='filled', fillcolor='pink')\n",
    "\n",
    "# Add edges\n",
    "for idx, row in pred_top_rules.iterrows():\n",
    "    G.add_edge(tuple(row['antecedents']), tuple(row['consequents']), label=f\"Confidence: {row['confidence']:.2f}\")\n",
    "\n",
    "# Plot the graph\n",
    "pos = nx.spring_layout(G, seed=26)\n",
    "edge_labels = nx.get_edge_attributes(G, 'label')\n",
    "nx.draw(G, pos, with_labels=True, node_size=400, node_color=['lightblue' if 'antecedents' in node else 'pink' for node in G.nodes()])\n",
    "nx.draw_networkx_edge_labels(G, pos, edge_labels=edge_labels)\n",
    "plt.title(\"Prediabetes Association Rule Visualization\")\n",
    "plt.show()\n"
   ]
  }
 ],
 "metadata": {
  "kernelspec": {
   "display_name": ".venv",
   "language": "python",
   "name": "python3"
  },
  "language_info": {
   "codemirror_mode": {
    "name": "ipython",
    "version": 3
   },
   "file_extension": ".py",
   "mimetype": "text/x-python",
   "name": "python",
   "nbconvert_exporter": "python",
   "pygments_lexer": "ipython3",
   "version": "3.10.6"
  }
 },
 "nbformat": 4,
 "nbformat_minor": 5
}
